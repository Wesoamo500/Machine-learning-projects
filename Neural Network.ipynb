{
 "cells": [
  {
   "cell_type": "code",
   "execution_count": 2,
   "metadata": {},
   "outputs": [
    {
     "ename": "SyntaxError",
     "evalue": "invalid syntax (<ipython-input-2-5144bd1832bf>, line 5)",
     "output_type": "error",
     "traceback": [
      "\u001b[1;36m  File \u001b[1;32m\"<ipython-input-2-5144bd1832bf>\"\u001b[1;36m, line \u001b[1;32m5\u001b[0m\n\u001b[1;33m    pip install open-cv -i http://pypi.douban.com/simple/ --trusted-host pypi.douban.com\u001b[0m\n\u001b[1;37m        ^\u001b[0m\n\u001b[1;31mSyntaxError\u001b[0m\u001b[1;31m:\u001b[0m invalid syntax\n"
     ]
    }
   ],
   "source": [
    "import numpy as np\n",
    "import matplotlib.pyplot as plt\n",
    "import os\n",
    "import sys\n",
    "\n",
    "import cv2\n",
    "import random\n"
   ]
  },
  {
   "cell_type": "code",
   "execution_count": null,
   "metadata": {},
   "outputs": [],
   "source": [
    "\n",
    "params_3 = {}\n",
    "\n",
    "def i_params_3(n):\n",
    "   \n",
    "    params_3['W1'] = np.random.randn(n[1],n[0]) * np.sqrt(2./n[0])\n",
    "    params_3['b1'] = np.zeros((n[1],1))\n",
    "    params_3['W2'] = np.random.randn(n[2],n[1]) * np.sqrt(2./n[1])\n",
    "    params_3['b2'] = np.zeros((n[2],1))\n",
    "    params_3['W3'] = np.random.randn(n[3],n[2]) * np.sqrt(2./n[2])\n",
    "    params_3['b3'] = np.zeros((n[3],1))\n",
    "    return params_3\n",
    "\n",
    "\n",
    "\n",
    "def sigmoid(x):\n",
    "    return 1./(1+np.exp(-x))\n",
    "\n",
    "def relu(x):\n",
    "    return np.maximum(0,x)\n",
    "\n",
    "def forward_prop(X,params_3):\n",
    "    W1 = params_3['W1']\n",
    "    b1 = params_3['b1']\n",
    "    W2 = params_3['W2']\n",
    "    b2 = params_3['b2']\n",
    "    W3 = params_3['W3']\n",
    "    b3 = params_3['b3']\n",
    "    Z1 = np.dot(W1,X) + b1\n",
    "    A1 = relu(Z1)\n",
    "    Z2 = np.dot(W2,A1)+b2\n",
    "    A2 = relu(Z2)\n",
    "    Z3 = np.dot(W3,A2)+b3\n",
    "    A3 = sigmoid(Z3)\n",
    "    cache = (W1,W2,W3,A1,A2,A3,Z1,Z2,Z3,b1,b2,b3) \n",
    "    return A3 , cache\n",
    "\n",
    "def backward_prop(X,Y,cache,lambd):\n",
    "    m = X.shape[1]\n",
    "    (W1,W2,W3,A1,A2,A3,Z1,Z2,Z3,b1,b2,b3) = cache\n",
    "    dZ3 = (1./m)* (A3 - Y)\n",
    "    dW3 = np.dot(dZ3,A2.T) * ((lambd/m)* W3)\n",
    "    db3 = np.sum(dZ3, axis=1,keepdims = True)\n",
    "    \n",
    "    dA2 = np.dot(W3.T, dZ3)\n",
    "    dZ2 = np.multiply(dA2, np.int64(A2 > 0))\n",
    "    dW2 = np.dot(dZ2,A1.T) * ((lambd/m)* W2)\n",
    "    db2 = np.sum(dZ2, axis=1,keepdims = True)\n",
    "    \n",
    "    dA1 = np.dot(W2.T, dZ2)\n",
    "    dZ1 = np.multiply(dA1, np.int64(A1 > 0))\n",
    "    dW1 = np.dot(dZ1,X.T) * ((lambd/m)* W1)\n",
    "    db1 = np.sum(dZ1, axis=1,keepdims = True)\n",
    "    \n",
    "    gradients={\n",
    "        'dZ3':dZ3 , 'dW3':dW3, 'db3' : db3,\n",
    "        'dZ2':dZ2 , 'dW2':dW2, 'db2' : db2, 'dA2':dA2,\n",
    "        'dZ1':dZ1 , 'dW1':dW1, 'db1' : db1, 'dA1':dA1,  \n",
    "    }\n",
    "    return gradients\n",
    "\n",
    "def cost(A3,Y):\n",
    "    m = Y.shape[1]\n",
    "    logprobs = np.multiply(-np.log(A3),Y) + np.multiply(-np.log(1-A3),(1-Y))\n",
    "    cost =1./m * np.nansum(logprobs)\n",
    "    return cost\n",
    "\n",
    "def u_params_3(learning_rate,params_3,grad):\n",
    "    for i in range(3):\n",
    "        params_3['W'+str(i+1)] = params_3['W'+str(i+1)] - learning_rate * grad['dW' + str(i+1)]\n",
    "        params_3['b'+str(i+1)] = params_3['b'+str(i+1)] - learning_rate * grad['db' + str(i+1)]\n",
    "    return params_3\n",
    "\n",
    "def predicts(X,Y,params):\n",
    "    m = X.shape[1]\n",
    "    p = np.zeros((1,m), dtype = np.int)\n",
    "    A3, caches = forward_prop(X, params)\n",
    "    for i in range(0, A3.shape[1]):\n",
    "        if A3[0,i] > 0.5:\n",
    "            p[0,i] = 1\n",
    "        else:\n",
    "            p[0,i] = 0\n",
    "    print(\"Accuracy: \"  + str(np.mean((p[0,:] == Y[0,:]))))\n",
    "    \n",
    "    return p\n",
    "        "
   ]
  },
  {
   "cell_type": "code",
   "execution_count": null,
   "metadata": {},
   "outputs": [],
   "source": [
    "Datadir = 'F:/New folder (3)/Training_Concrete'\n",
    "Categories = ['Neg','Pos']\n",
    "\n",
    "for category in Categories:\n",
    "    path = os.path.join(Datadir,category)\n",
    "    for img in os.listdir(path):\n",
    "        img_array = cv2.imread(os.path.join(path,img))\n",
    "        plt.imshow(img_array, cmap = 'gray')\n",
    "        plt.show()\n",
    "        break\n",
    "    break\n",
    "    \n",
    "training_data = []\n",
    "\n",
    "def create_training_data():\n",
    "    for category in Categories:\n",
    "        \n",
    "        path = os.path.join(Datadir,category)\n",
    "        class_num = Categories.index(category)\n",
    "        for img in os.listdir(path):\n",
    "            try:\n",
    "                img_array = cv2.imread(os.path.join(path,img))\n",
    "                training_data.append([img_array,class_num]) \n",
    "            except Exception as e:\n",
    "                pass\n",
    "            \n",
    "create_training_data()    \n",
    "import random\n",
    "random.shuffle(training_data)\n",
    "X = []\n",
    "y = []\n",
    "\n",
    "for features,labels in training_data:\n",
    "    X.append(features)\n",
    "    y.append(labels)\n",
    "    \n",
    "X = np.array(X).reshape(-1,img_array.shape[0],img_array.shape[1],3)\n",
    "y = np.array(y).reshape(1,-1)\n",
    "\n",
    "x_flatten = X.reshape(X.shape[0],-1).T\n",
    "train_x = x_flatten/255"
   ]
  },
  {
   "cell_type": "code",
   "execution_count": null,
   "metadata": {},
   "outputs": [],
   "source": [
    "L2 = 0\n",
    "def NN_model_2(learning_rate,train_x,y,no_iterations,n,lambd):\n",
    "    m = train_x.shape[1]\n",
    "    random.seed(2)\n",
    "    params = i_params_3(n)\n",
    "    for i in range(no_iterations):\n",
    "        L2 = 0\n",
    "        A3 , cache = forward_prop(train_x , params)\n",
    "        for l in range(1,len(n)):\n",
    "            L2 += np.sum(np.square(params['W' + str(l)]))\n",
    "        cost1 = cost(A3,y) + ((lambd/2*m) * L2)\n",
    "        if (i%100==0):\n",
    "            print(cost1) \n",
    "        grad = backward_prop(train_x,y,cache,lambd)\n",
    "        u_param = u_params_3(learning_rate,params,grad)\n",
    "    return u_param\n",
    "        \n",
    "n = [154587,6,6,1] \n",
    "random.seed(2)\n",
    "u_params = NN_model_2(0.001,train_x,y,700,n,0.01)    \n"
   ]
  },
  {
   "cell_type": "code",
   "execution_count": null,
   "metadata": {},
   "outputs": [],
   "source": [
    "n = 0 \n",
    "for i in range(2):\n",
    "    n+=1\n",
    "print(i)    \n",
    "#Prediction = predicts(train_x,y,u_params)\n",
    "#Prediction = predicts(test_x,y,u_params)"
   ]
  },
  {
   "cell_type": "code",
   "execution_count": null,
   "metadata": {
    "scrolled": true
   },
   "outputs": [],
   "source": [
    "Datadir = 'F:/New folder (3)/Test_Concrete'\n",
    "Categories = ['Test_neg','Test_pos']\n",
    "\n",
    "for category in Categories:\n",
    "    path = os.path.join(Datadir,category)\n",
    "    for img in os.listdir(path):\n",
    "        img_array = cv2.imread(os.path.join(path,img))\n",
    "        plt.imshow(img_array, cmap = 'gray')\n",
    "        plt.show()\n",
    "        break\n",
    "    break\n",
    "    \n",
    "test_data = []\n",
    "\n",
    "def create_test_data():\n",
    "    for category in Categories:\n",
    "        \n",
    "        path = os.path.join(Datadir,category)\n",
    "        class_num = Categories.index(category)\n",
    "        for img in os.listdir(path):\n",
    "            try:\n",
    "                img_array = cv2.imread(os.path.join(path,img))\n",
    "                test_data.append([img_array,class_num]) \n",
    "            except Exception as e:\n",
    "                pass\n",
    "            \n",
    "create_test_data()    \n",
    "import random\n",
    "random.shuffle(test_data)\n",
    "X = []\n",
    "y1 = []\n",
    "\n",
    "for features,labels in test_data:\n",
    "    X.append(features)\n",
    "    y1.append(labels)\n",
    "    \n",
    "X = np.array(X).reshape(-1,img_array.shape[0],img_array.shape[1],3)\n",
    "y1 = np.array(y1).reshape(1,-1)\n",
    "\n",
    "x_flatten = X.reshape(X.shape[0],-1).T\n",
    "test_x = x_flatten/255"
   ]
  },
  {
   "cell_type": "code",
   "execution_count": null,
   "metadata": {},
   "outputs": [],
   "source": [
    "\n",
    "Predictions = predicts(train_x,y,u_params)\n",
    "Predictions = predicts(test_x,y1,u_params)"
   ]
  },
  {
   "cell_type": "code",
   "execution_count": null,
   "metadata": {},
   "outputs": [],
   "source": [
    "m = test_x.shape[1]\n",
    "p = np.zeros((1,m), dtype = np.int)\n",
    "for i in range(0, A3.shape[1]):\n",
    "    if A3[0,i] > 0.5:\n",
    "            p[0,i] = 1\n",
    "    else:\n",
    "            p[0,i] = 0\n",
    "    print(\"Accuracy: \"  + str(np.mean((p[0,:] == y1[0,:]))))"
   ]
  },
  {
   "cell_type": "code",
   "execution_count": null,
   "metadata": {},
   "outputs": [],
   "source": [
    "import random\n",
    "\n",
    "\n",
    "random.seed(1)\n",
    "print (random.randint(12,23))\n",
    "random.seed(2)\n",
    "print(random.randint(12,23))\n",
    "random.seed(2)\n",
    "print(random.randint(12,23))\n",
    "random.seed(1)\n",
    "print(random.randint(12,23))\n"
   ]
  },
  {
   "cell_type": "code",
   "execution_count": null,
   "metadata": {},
   "outputs": [],
   "source": [
    "random.seed(1)\n",
    "s = random.randint(12,23)\n",
    "random.seed(2)\n",
    "w = random.randint(12,23)\n",
    "\n",
    "print(s+w)"
   ]
  },
  {
   "cell_type": "code",
   "execution_count": null,
   "metadata": {},
   "outputs": [],
   "source": [
    "pip install opencv-python"
   ]
  },
  {
   "cell_type": "code",
   "execution_count": null,
   "metadata": {},
   "outputs": [],
   "source": [
    "import random\n",
    "def randy():\n",
    "    s = random.randint(12,34)\n",
    "    p = random.randint(12,67)\n",
    "    return s,p\n",
    "\n"
   ]
  },
  {
   "cell_type": "code",
   "execution_count": null,
   "metadata": {},
   "outputs": [],
   "source": [
    "random.seed(1)\n",
    "r =randy()\n",
    "print (r)"
   ]
  },
  {
   "cell_type": "code",
   "execution_count": null,
   "metadata": {},
   "outputs": [],
   "source": [
    "random.seed(1)\n",
    "s = randy()\n",
    "print(s)"
   ]
  },
  {
   "cell_type": "code",
   "execution_count": null,
   "metadata": {},
   "outputs": [],
   "source": [
    "print(r)"
   ]
  },
  {
   "cell_type": "code",
   "execution_count": 3,
   "metadata": {},
   "outputs": [
    {
     "name": "stdout",
     "output_type": "stream",
     "text": [
      "Looking in indexes: http://pypi.douban.com/simple/Note: you may need to restart the kernel to use updated packages.\n",
      "\n"
     ]
    },
    {
     "name": "stderr",
     "output_type": "stream",
     "text": [
      "ERROR: Could not find a version that satisfies the requirement open-cv (from versions: none)\n",
      "ERROR: No matching distribution found for open-cv\n"
     ]
    }
   ],
   "source": [
    "pip install open-cv -i http://pypi.douban.com/simple/ --trusted-host pypi.douban.com"
   ]
  },
  {
   "cell_type": "code",
   "execution_count": null,
   "metadata": {},
   "outputs": [],
   "source": []
  }
 ],
 "metadata": {
  "kernelspec": {
   "display_name": "Python 3",
   "language": "python",
   "name": "python3"
  },
  "language_info": {
   "codemirror_mode": {
    "name": "ipython",
    "version": 3
   },
   "file_extension": ".py",
   "mimetype": "text/x-python",
   "name": "python",
   "nbconvert_exporter": "python",
   "pygments_lexer": "ipython3",
   "version": "3.8.5"
  }
 },
 "nbformat": 4,
 "nbformat_minor": 4
}
