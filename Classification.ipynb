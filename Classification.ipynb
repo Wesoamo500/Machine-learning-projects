{
 "cells": [
  {
   "cell_type": "code",
   "execution_count": 1,
   "metadata": {},
   "outputs": [],
   "source": [
    "import tensorflow as tf\n",
    "import numpy as np\n",
    "import pandas as pd"
   ]
  },
  {
   "cell_type": "code",
   "execution_count": 2,
   "metadata": {},
   "outputs": [],
   "source": [
    "CSV_COLUMN_NAMES = ['SepalLength','SepalWidth','PetalLength','PetalWidth','Species']\n",
    "\n",
    "SPECIES = ['Setosa','Virginica','Versicolor']"
   ]
  },
  {
   "cell_type": "code",
   "execution_count": 3,
   "metadata": {},
   "outputs": [],
   "source": [
    "train_path = tf.keras.utils.get_file('iris_training.csv','https://storage.googleapis.com/download.tensorflow.org/data/iris_training.csv')\n",
    "test_path = tf.keras.utils.get_file('iris_test.csv','https://storage.googleapis.com/download.tensorflow.org/data/iris_test.csv')\n",
    "\n",
    "train = pd.read_csv(train_path, names=CSV_COLUMN_NAMES,header=0)\n",
    "test = pd.read_csv(test_path, names=CSV_COLUMN_NAMES,header=0)\n",
    "\n",
    "train_y = train.pop('Species')\n",
    "test_y = test.pop('Species')"
   ]
  },
  {
   "cell_type": "code",
   "execution_count": 5,
   "metadata": {},
   "outputs": [
    {
     "name": "stdout",
     "output_type": "stream",
     "text": [
      "INFO:tensorflow:Using default config.\n",
      "WARNING:tensorflow:Using temporary folder as model directory: C:\\Users\\LEOPARD\\AppData\\Local\\Temp\\tmpi0xqiivz\n",
      "INFO:tensorflow:Using config: {'_model_dir': 'C:\\\\Users\\\\LEOPARD\\\\AppData\\\\Local\\\\Temp\\\\tmpi0xqiivz', '_tf_random_seed': None, '_save_summary_steps': 100, '_save_checkpoints_steps': None, '_save_checkpoints_secs': 600, '_session_config': allow_soft_placement: true\n",
      "graph_options {\n",
      "  rewrite_options {\n",
      "    meta_optimizer_iterations: ONE\n",
      "  }\n",
      "}\n",
      ", '_keep_checkpoint_max': 5, '_keep_checkpoint_every_n_hours': 10000, '_log_step_count_steps': 100, '_train_distribute': None, '_device_fn': None, '_protocol': None, '_eval_distribute': None, '_experimental_distribute': None, '_experimental_max_worker_delay_secs': None, '_session_creation_timeout_secs': 7200, '_checkpoint_save_graph_def': True, '_service': None, '_cluster_spec': ClusterSpec({}), '_task_type': 'worker', '_task_id': 0, '_global_id_in_cluster': 0, '_master': '', '_evaluation_master': '', '_is_chief': True, '_num_ps_replicas': 0, '_num_worker_replicas': 1}\n",
      "WARNING:tensorflow:From C:\\Users\\LEOPARD\\anaconda3\\lib\\site-packages\\tensorflow\\python\\training\\training_util.py:396: Variable.initialized_value (from tensorflow.python.ops.variables) is deprecated and will be removed in a future version.\n",
      "Instructions for updating:\n",
      "Use Variable.read_value. Variables in 2.X are initialized automatically both in eager and graph (inside tf.defun) contexts.\n",
      "INFO:tensorflow:Calling model_fn.\n",
      "WARNING:tensorflow:From C:\\Users\\LEOPARD\\anaconda3\\lib\\site-packages\\keras\\optimizers\\optimizer_v2\\adagrad.py:86: calling Constant.__init__ (from tensorflow.python.ops.init_ops) with dtype is deprecated and will be removed in a future version.\n",
      "Instructions for updating:\n",
      "Call initializer instance with the dtype argument instead of passing it to the constructor\n",
      "INFO:tensorflow:Done calling model_fn.\n",
      "INFO:tensorflow:Create CheckpointSaverHook.\n",
      "INFO:tensorflow:Graph was finalized.\n",
      "INFO:tensorflow:Running local_init_op.\n",
      "INFO:tensorflow:Done running local_init_op.\n",
      "INFO:tensorflow:Calling checkpoint listeners before saving checkpoint 0...\n",
      "INFO:tensorflow:Saving checkpoints for 0 into C:\\Users\\LEOPARD\\AppData\\Local\\Temp\\tmpi0xqiivz\\model.ckpt.\n",
      "INFO:tensorflow:C:\\Users\\LEOPARD\\AppData\\Local\\Temp\\tmpi0xqiivz\\model.ckpt-0.data-00000-of-00001\n",
      "INFO:tensorflow:0\n",
      "INFO:tensorflow:C:\\Users\\LEOPARD\\AppData\\Local\\Temp\\tmpi0xqiivz\\model.ckpt-0.index\n",
      "INFO:tensorflow:0\n",
      "INFO:tensorflow:C:\\Users\\LEOPARD\\AppData\\Local\\Temp\\tmpi0xqiivz\\model.ckpt-0.meta\n",
      "INFO:tensorflow:200\n",
      "INFO:tensorflow:Calling checkpoint listeners after saving checkpoint 0...\n",
      "INFO:tensorflow:loss = 1.5315042, step = 0\n",
      "INFO:tensorflow:global_step/sec: 342.687\n",
      "INFO:tensorflow:loss = 1.1151544, step = 100 (0.292 sec)\n",
      "INFO:tensorflow:global_step/sec: 416.146\n",
      "INFO:tensorflow:loss = 1.0132592, step = 200 (0.240 sec)\n",
      "INFO:tensorflow:global_step/sec: 421.684\n",
      "INFO:tensorflow:loss = 0.9778803, step = 300 (0.237 sec)\n",
      "INFO:tensorflow:global_step/sec: 399.258\n",
      "INFO:tensorflow:loss = 0.9642467, step = 400 (0.250 sec)\n",
      "INFO:tensorflow:global_step/sec: 401.33\n",
      "INFO:tensorflow:loss = 0.9476626, step = 500 (0.249 sec)\n",
      "INFO:tensorflow:global_step/sec: 457.425\n",
      "INFO:tensorflow:loss = 0.9302665, step = 600 (0.234 sec)\n",
      "INFO:tensorflow:global_step/sec: 415.363\n",
      "INFO:tensorflow:loss = 0.91591126, step = 700 (0.225 sec)\n",
      "INFO:tensorflow:global_step/sec: 444.147\n",
      "INFO:tensorflow:loss = 0.89643776, step = 800 (0.225 sec)\n",
      "INFO:tensorflow:global_step/sec: 444.878\n",
      "INFO:tensorflow:loss = 0.8833219, step = 900 (0.225 sec)\n",
      "INFO:tensorflow:global_step/sec: 438.919\n",
      "INFO:tensorflow:loss = 0.87764156, step = 1000 (0.228 sec)\n",
      "INFO:tensorflow:global_step/sec: 485.144\n",
      "INFO:tensorflow:loss = 0.85767543, step = 1100 (0.206 sec)\n",
      "INFO:tensorflow:global_step/sec: 444.187\n",
      "INFO:tensorflow:loss = 0.8425145, step = 1200 (0.225 sec)\n",
      "INFO:tensorflow:global_step/sec: 435.278\n",
      "INFO:tensorflow:loss = 0.8283627, step = 1300 (0.230 sec)\n",
      "INFO:tensorflow:global_step/sec: 427.456\n",
      "INFO:tensorflow:loss = 0.82092667, step = 1400 (0.234 sec)\n",
      "INFO:tensorflow:global_step/sec: 461.599\n",
      "INFO:tensorflow:loss = 0.80178714, step = 1500 (0.217 sec)\n",
      "INFO:tensorflow:global_step/sec: 443.898\n",
      "INFO:tensorflow:loss = 0.78712094, step = 1600 (0.225 sec)\n",
      "INFO:tensorflow:global_step/sec: 441.824\n",
      "INFO:tensorflow:loss = 0.7790307, step = 1700 (0.226 sec)\n",
      "INFO:tensorflow:global_step/sec: 478.578\n",
      "INFO:tensorflow:loss = 0.76639885, step = 1800 (0.225 sec)\n",
      "INFO:tensorflow:global_step/sec: 433.283\n",
      "INFO:tensorflow:loss = 0.76482606, step = 1900 (0.215 sec)\n",
      "INFO:tensorflow:global_step/sec: 480.388\n",
      "INFO:tensorflow:loss = 0.7368178, step = 2000 (0.224 sec)\n",
      "INFO:tensorflow:global_step/sec: 431.103\n",
      "INFO:tensorflow:loss = 0.72814935, step = 2100 (0.216 sec)\n",
      "INFO:tensorflow:global_step/sec: 451.731\n",
      "INFO:tensorflow:loss = 0.731122, step = 2200 (0.221 sec)\n",
      "INFO:tensorflow:global_step/sec: 477.549\n",
      "INFO:tensorflow:loss = 0.7004014, step = 2300 (0.225 sec)\n",
      "INFO:tensorflow:global_step/sec: 441.399\n",
      "INFO:tensorflow:loss = 0.70122623, step = 2400 (0.211 sec)\n",
      "INFO:tensorflow:global_step/sec: 442.357\n",
      "INFO:tensorflow:loss = 0.6840948, step = 2500 (0.226 sec)\n",
      "INFO:tensorflow:global_step/sec: 463.609\n",
      "INFO:tensorflow:loss = 0.6697324, step = 2600 (0.216 sec)\n",
      "INFO:tensorflow:global_step/sec: 458.496\n",
      "INFO:tensorflow:loss = 0.6638557, step = 2700 (0.218 sec)\n",
      "INFO:tensorflow:global_step/sec: 434.914\n",
      "INFO:tensorflow:loss = 0.659467, step = 2800 (0.230 sec)\n",
      "INFO:tensorflow:global_step/sec: 412.912\n",
      "INFO:tensorflow:loss = 0.635489, step = 2900 (0.244 sec)\n",
      "INFO:tensorflow:global_step/sec: 350.091\n",
      "INFO:tensorflow:loss = 0.63242805, step = 3000 (0.289 sec)\n",
      "INFO:tensorflow:global_step/sec: 420.893\n",
      "INFO:tensorflow:loss = 0.6300055, step = 3100 (0.235 sec)\n",
      "INFO:tensorflow:global_step/sec: 450.25\n",
      "INFO:tensorflow:loss = 0.6159399, step = 3200 (0.222 sec)\n",
      "INFO:tensorflow:global_step/sec: 336.536\n",
      "INFO:tensorflow:loss = 0.6125329, step = 3300 (0.298 sec)\n",
      "INFO:tensorflow:global_step/sec: 351.256\n",
      "INFO:tensorflow:loss = 0.5995987, step = 3400 (0.285 sec)\n",
      "INFO:tensorflow:global_step/sec: 292.579\n",
      "INFO:tensorflow:loss = 0.5927098, step = 3500 (0.341 sec)\n",
      "INFO:tensorflow:global_step/sec: 361.652\n",
      "INFO:tensorflow:loss = 0.5720119, step = 3600 (0.275 sec)\n",
      "INFO:tensorflow:global_step/sec: 392.623\n",
      "INFO:tensorflow:loss = 0.5686259, step = 3700 (0.255 sec)\n",
      "INFO:tensorflow:global_step/sec: 398.421\n",
      "INFO:tensorflow:loss = 0.5518616, step = 3800 (0.253 sec)\n",
      "INFO:tensorflow:global_step/sec: 398.206\n",
      "INFO:tensorflow:loss = 0.55329, step = 3900 (0.251 sec)\n",
      "INFO:tensorflow:global_step/sec: 450.234\n",
      "INFO:tensorflow:loss = 0.5428488, step = 4000 (0.222 sec)\n",
      "INFO:tensorflow:global_step/sec: 362.357\n",
      "INFO:tensorflow:loss = 0.55214053, step = 4100 (0.276 sec)\n",
      "INFO:tensorflow:global_step/sec: 320.71\n",
      "INFO:tensorflow:loss = 0.52951276, step = 4200 (0.313 sec)\n",
      "INFO:tensorflow:global_step/sec: 367.877\n",
      "INFO:tensorflow:loss = 0.5172218, step = 4300 (0.269 sec)\n",
      "INFO:tensorflow:global_step/sec: 330.736\n",
      "INFO:tensorflow:loss = 0.530796, step = 4400 (0.305 sec)\n",
      "INFO:tensorflow:global_step/sec: 433.647\n",
      "INFO:tensorflow:loss = 0.5079652, step = 4500 (0.230 sec)\n",
      "INFO:tensorflow:global_step/sec: 467.881\n",
      "INFO:tensorflow:loss = 0.5012703, step = 4600 (0.212 sec)\n",
      "INFO:tensorflow:global_step/sec: 412.009\n",
      "INFO:tensorflow:loss = 0.50485146, step = 4700 (0.245 sec)\n",
      "INFO:tensorflow:global_step/sec: 451.687\n",
      "INFO:tensorflow:loss = 0.4909659, step = 4800 (0.219 sec)\n",
      "INFO:tensorflow:global_step/sec: 444.879\n",
      "INFO:tensorflow:loss = 0.47687593, step = 4900 (0.225 sec)\n",
      "INFO:tensorflow:global_step/sec: 414.648\n",
      "INFO:tensorflow:loss = 0.47728738, step = 5000 (0.244 sec)\n",
      "INFO:tensorflow:global_step/sec: 395.929\n",
      "INFO:tensorflow:loss = 0.47523087, step = 5100 (0.252 sec)\n",
      "INFO:tensorflow:global_step/sec: 408.241\n",
      "INFO:tensorflow:loss = 0.46807268, step = 5200 (0.245 sec)\n",
      "INFO:tensorflow:global_step/sec: 391.082\n",
      "INFO:tensorflow:loss = 0.45571712, step = 5300 (0.256 sec)\n",
      "INFO:tensorflow:global_step/sec: 396.533\n",
      "INFO:tensorflow:loss = 0.45580947, step = 5400 (0.252 sec)\n",
      "INFO:tensorflow:global_step/sec: 456.542\n",
      "INFO:tensorflow:loss = 0.4518899, step = 5500 (0.217 sec)\n",
      "INFO:tensorflow:global_step/sec: 382.386\n",
      "INFO:tensorflow:loss = 0.4480399, step = 5600 (0.264 sec)\n"
     ]
    },
    {
     "name": "stdout",
     "output_type": "stream",
     "text": [
      "INFO:tensorflow:global_step/sec: 389.09\n",
      "INFO:tensorflow:loss = 0.44109386, step = 5700 (0.256 sec)\n",
      "INFO:tensorflow:global_step/sec: 403.476\n",
      "INFO:tensorflow:loss = 0.44674173, step = 5800 (0.249 sec)\n",
      "INFO:tensorflow:global_step/sec: 406.757\n",
      "INFO:tensorflow:loss = 0.43352664, step = 5900 (0.246 sec)\n",
      "INFO:tensorflow:global_step/sec: 408.415\n",
      "INFO:tensorflow:loss = 0.42856964, step = 6000 (0.245 sec)\n",
      "INFO:tensorflow:global_step/sec: 406.758\n",
      "INFO:tensorflow:loss = 0.41934448, step = 6100 (0.246 sec)\n",
      "INFO:tensorflow:global_step/sec: 397.07\n",
      "INFO:tensorflow:loss = 0.4122367, step = 6200 (0.252 sec)\n",
      "INFO:tensorflow:global_step/sec: 445.53\n",
      "INFO:tensorflow:loss = 0.4119143, step = 6300 (0.222 sec)\n",
      "INFO:tensorflow:global_step/sec: 416.797\n",
      "INFO:tensorflow:loss = 0.39799953, step = 6400 (0.242 sec)\n",
      "INFO:tensorflow:global_step/sec: 432.393\n",
      "INFO:tensorflow:loss = 0.4023793, step = 6500 (0.231 sec)\n",
      "INFO:tensorflow:global_step/sec: 456.26\n",
      "INFO:tensorflow:loss = 0.39027184, step = 6600 (0.217 sec)\n",
      "INFO:tensorflow:global_step/sec: 419.794\n",
      "INFO:tensorflow:loss = 0.40296617, step = 6700 (0.241 sec)\n",
      "INFO:tensorflow:global_step/sec: 452.173\n",
      "INFO:tensorflow:loss = 0.37655044, step = 6800 (0.219 sec)\n",
      "INFO:tensorflow:global_step/sec: 471.596\n",
      "INFO:tensorflow:loss = 0.38426137, step = 6900 (0.212 sec)\n",
      "INFO:tensorflow:Calling checkpoint listeners before saving checkpoint 7000...\n",
      "INFO:tensorflow:Saving checkpoints for 7000 into C:\\Users\\LEOPARD\\AppData\\Local\\Temp\\tmpi0xqiivz\\model.ckpt.\n",
      "INFO:tensorflow:C:\\Users\\LEOPARD\\AppData\\Local\\Temp\\tmpi0xqiivz\\model.ckpt-7000.data-00000-of-00001\n",
      "INFO:tensorflow:0\n",
      "INFO:tensorflow:C:\\Users\\LEOPARD\\AppData\\Local\\Temp\\tmpi0xqiivz\\model.ckpt-7000.index\n",
      "INFO:tensorflow:0\n",
      "INFO:tensorflow:C:\\Users\\LEOPARD\\AppData\\Local\\Temp\\tmpi0xqiivz\\model.ckpt-7000.meta\n",
      "INFO:tensorflow:200\n",
      "INFO:tensorflow:Calling checkpoint listeners after saving checkpoint 7000...\n",
      "INFO:tensorflow:Loss for final step: 0.39188793.\n"
     ]
    },
    {
     "data": {
      "text/plain": [
       "<tensorflow_estimator.python.estimator.canned.dnn.DNNClassifierV2 at 0x20f46131b80>"
      ]
     },
     "execution_count": 5,
     "metadata": {},
     "output_type": "execute_result"
    }
   ],
   "source": [
    "def input_fn(features,labels,batch_size=256,training=True):\n",
    "    ds = tf.data.Dataset.from_tensor_slices((dict(features),labels))\n",
    "    \n",
    "    if training:\n",
    "        ds=ds.shuffle(1000).repeat()\n",
    "        \n",
    "    return ds.batch(batch_size)\n",
    "\n",
    "feature_columns = []\n",
    "\n",
    "for key in train.keys():\n",
    "    feature_columns.append(tf.feature_column.numeric_column(key=key))\n",
    "\n",
    "\n",
    "classifier = tf.estimator.DNNClassifier(feature_columns=feature_columns,hidden_units=[30,10,10],n_classes=3)\n",
    "\n",
    "classifier.train(input_fn=lambda:input_fn(train,train_y,training=True),steps=7000)\n",
    "    "
   ]
  },
  {
   "cell_type": "code",
   "execution_count": 6,
   "metadata": {},
   "outputs": [
    {
     "name": "stdout",
     "output_type": "stream",
     "text": [
      "INFO:tensorflow:Calling model_fn.\n",
      "INFO:tensorflow:Done calling model_fn.\n",
      "INFO:tensorflow:Starting evaluation at 2022-07-11T03:12:59\n",
      "INFO:tensorflow:Graph was finalized.\n",
      "INFO:tensorflow:Restoring parameters from C:\\Users\\LEOPARD\\AppData\\Local\\Temp\\tmpi0xqiivz\\model.ckpt-7000\n",
      "INFO:tensorflow:Running local_init_op.\n",
      "INFO:tensorflow:Done running local_init_op.\n",
      "INFO:tensorflow:Inference Time : 0.96137s\n",
      "INFO:tensorflow:Finished evaluation at 2022-07-11-03:13:00\n",
      "INFO:tensorflow:Saving dict for global step 7000: accuracy = 0.93333334, average_loss = 0.46334967, global_step = 7000, loss = 0.46334967\n",
      "INFO:tensorflow:Saving 'checkpoint_path' summary for global step 7000: C:\\Users\\LEOPARD\\AppData\\Local\\Temp\\tmpi0xqiivz\\model.ckpt-7000\n",
      "\n",
      "Accuracy: 0.933\n",
      "\n"
     ]
    }
   ],
   "source": [
    "eval_result=classifier.evaluate(input_fn=lambda:input_fn(test,test_y,training=False))\n",
    "\n",
    "print('\\nAccuracy: {accuracy:0.3f}\\n'.format(**eval_result))"
   ]
  },
  {
   "cell_type": "code",
   "execution_count": 25,
   "metadata": {},
   "outputs": [
    {
     "ename": "TypeError",
     "evalue": "unsupported callable",
     "output_type": "error",
     "traceback": [
      "\u001b[1;31m---------------------------------------------------------------------------\u001b[0m",
      "\u001b[1;31mTypeError\u001b[0m                                 Traceback (most recent call last)",
      "\u001b[1;32m~\\anaconda3\\lib\\inspect.py\u001b[0m in \u001b[0;36mgetfullargspec\u001b[1;34m(func)\u001b[0m\n\u001b[0;32m   1122\u001b[0m \u001b[1;33m\u001b[0m\u001b[0m\n\u001b[1;32m-> 1123\u001b[1;33m         sig = _signature_from_callable(func,\n\u001b[0m\u001b[0;32m   1124\u001b[0m                                        \u001b[0mfollow_wrapper_chains\u001b[0m\u001b[1;33m=\u001b[0m\u001b[1;32mFalse\u001b[0m\u001b[1;33m,\u001b[0m\u001b[1;33m\u001b[0m\u001b[1;33m\u001b[0m\u001b[0m\n",
      "\u001b[1;32m~\\anaconda3\\lib\\inspect.py\u001b[0m in \u001b[0;36m_signature_from_callable\u001b[1;34m(obj, follow_wrapper_chains, skip_bound_arg, sigcls)\u001b[0m\n\u001b[0;32m   2215\u001b[0m     \u001b[1;32mif\u001b[0m \u001b[1;32mnot\u001b[0m \u001b[0mcallable\u001b[0m\u001b[1;33m(\u001b[0m\u001b[0mobj\u001b[0m\u001b[1;33m)\u001b[0m\u001b[1;33m:\u001b[0m\u001b[1;33m\u001b[0m\u001b[1;33m\u001b[0m\u001b[0m\n\u001b[1;32m-> 2216\u001b[1;33m         \u001b[1;32mraise\u001b[0m \u001b[0mTypeError\u001b[0m\u001b[1;33m(\u001b[0m\u001b[1;34m'{!r} is not a callable object'\u001b[0m\u001b[1;33m.\u001b[0m\u001b[0mformat\u001b[0m\u001b[1;33m(\u001b[0m\u001b[0mobj\u001b[0m\u001b[1;33m)\u001b[0m\u001b[1;33m)\u001b[0m\u001b[1;33m\u001b[0m\u001b[1;33m\u001b[0m\u001b[0m\n\u001b[0m\u001b[0;32m   2217\u001b[0m \u001b[1;33m\u001b[0m\u001b[0m\n",
      "\u001b[1;31mTypeError\u001b[0m:     SepalLength  SepalWidth  PetalLength  PetalWidth\n0           5.9         3.0          4.2         1.5\n1           6.9         3.1          5.4         2.1\n2           5.1         3.3          1.7         0.5\n3           6.0         3.4          4.5         1.6\n4           5.5         2.5          4.0         1.3\n5           6.2         2.9          4.3         1.3\n6           5.5         4.2          1.4         0.2\n7           6.3         2.8          5.1         1.5\n8           5.6         3.0          4.1         1.3\n9           6.7         2.5          5.8         1.8\n10          7.1         3.0          5.9         2.1\n11          4.3         3.0          1.1         0.1\n12          5.6         2.8          4.9         2.0\n13          5.5         2.3          4.0         1.3\n14          6.0         2.2          4.0         1.0\n15          5.1         3.5          1.4         0.2\n16          5.7         2.6          3.5         1.0\n17          4.8         3.4          1.9         0.2\n18          5.1         3.4          1.5         0.2\n19          5.7         2.5          5.0         2.0\n20          5.4         3.4          1.7         0.2\n21          5.6         3.0          4.5         1.5\n22          6.3         2.9          5.6         1.8\n23          6.3         2.5          4.9         1.5\n24          5.8         2.7          3.9         1.2\n25          6.1         3.0          4.6         1.4\n26          5.2         4.1          1.5         0.1\n27          6.7         3.1          4.7         1.5\n28          6.7         3.3          5.7         2.5\n29          6.4         2.9          4.3         1.3 is not a callable object",
      "\nThe above exception was the direct cause of the following exception:\n",
      "\u001b[1;31mTypeError\u001b[0m                                 Traceback (most recent call last)",
      "\u001b[1;32m<ipython-input-25-4ebefc60f107>\u001b[0m in \u001b[0;36m<module>\u001b[1;34m\u001b[0m\n\u001b[1;32m----> 1\u001b[1;33m \u001b[0mresult\u001b[0m \u001b[1;33m=\u001b[0m\u001b[0mlist\u001b[0m\u001b[1;33m(\u001b[0m\u001b[0mclassifier\u001b[0m\u001b[1;33m.\u001b[0m\u001b[0mpredict\u001b[0m\u001b[1;33m(\u001b[0m\u001b[0mtest\u001b[0m\u001b[1;33m)\u001b[0m\u001b[1;33m)\u001b[0m\u001b[1;33m\u001b[0m\u001b[1;33m\u001b[0m\u001b[0m\n\u001b[0m",
      "\u001b[1;32m~\\anaconda3\\lib\\site-packages\\tensorflow_estimator\\python\\estimator\\estimator.py\u001b[0m in \u001b[0;36mpredict\u001b[1;34m(self, input_fn, predict_keys, hooks, checkpoint_path, yield_single_examples)\u001b[0m\n\u001b[0;32m    619\u001b[0m         \u001b[0mtf\u001b[0m\u001b[1;33m.\u001b[0m\u001b[0mcompat\u001b[0m\u001b[1;33m.\u001b[0m\u001b[0mv1\u001b[0m\u001b[1;33m.\u001b[0m\u001b[0mrandom\u001b[0m\u001b[1;33m.\u001b[0m\u001b[0mset_random_seed\u001b[0m\u001b[1;33m(\u001b[0m\u001b[0mself\u001b[0m\u001b[1;33m.\u001b[0m\u001b[0m_config\u001b[0m\u001b[1;33m.\u001b[0m\u001b[0mtf_random_seed\u001b[0m\u001b[1;33m)\u001b[0m\u001b[1;33m\u001b[0m\u001b[1;33m\u001b[0m\u001b[0m\n\u001b[0;32m    620\u001b[0m         \u001b[0mself\u001b[0m\u001b[1;33m.\u001b[0m\u001b[0m_create_and_assert_global_step\u001b[0m\u001b[1;33m(\u001b[0m\u001b[0mg\u001b[0m\u001b[1;33m)\u001b[0m\u001b[1;33m\u001b[0m\u001b[1;33m\u001b[0m\u001b[0m\n\u001b[1;32m--> 621\u001b[1;33m         features, input_hooks = self._get_features_from_input_fn(\n\u001b[0m\u001b[0;32m    622\u001b[0m             input_fn, ModeKeys.PREDICT)\n\u001b[0;32m    623\u001b[0m         estimator_spec = self._call_model_fn(features, None, ModeKeys.PREDICT,\n",
      "\u001b[1;32m~\\anaconda3\\lib\\site-packages\\tensorflow_estimator\\python\\estimator\\estimator.py\u001b[0m in \u001b[0;36m_get_features_from_input_fn\u001b[1;34m(self, input_fn, mode)\u001b[0m\n\u001b[0;32m   1016\u001b[0m   \u001b[1;32mdef\u001b[0m \u001b[0m_get_features_from_input_fn\u001b[0m\u001b[1;33m(\u001b[0m\u001b[0mself\u001b[0m\u001b[1;33m,\u001b[0m \u001b[0minput_fn\u001b[0m\u001b[1;33m,\u001b[0m \u001b[0mmode\u001b[0m\u001b[1;33m)\u001b[0m\u001b[1;33m:\u001b[0m\u001b[1;33m\u001b[0m\u001b[1;33m\u001b[0m\u001b[0m\n\u001b[0;32m   1017\u001b[0m     \u001b[1;34m\"\"\"Extracts the `features` from return values of `input_fn`.\"\"\"\u001b[0m\u001b[1;33m\u001b[0m\u001b[1;33m\u001b[0m\u001b[0m\n\u001b[1;32m-> 1018\u001b[1;33m     \u001b[0mresult\u001b[0m \u001b[1;33m=\u001b[0m \u001b[0mself\u001b[0m\u001b[1;33m.\u001b[0m\u001b[0m_call_input_fn\u001b[0m\u001b[1;33m(\u001b[0m\u001b[0minput_fn\u001b[0m\u001b[1;33m,\u001b[0m \u001b[0mmode\u001b[0m\u001b[1;33m)\u001b[0m\u001b[1;33m\u001b[0m\u001b[1;33m\u001b[0m\u001b[0m\n\u001b[0m\u001b[0;32m   1019\u001b[0m     \u001b[0mresult\u001b[0m\u001b[1;33m,\u001b[0m \u001b[0m_\u001b[0m\u001b[1;33m,\u001b[0m \u001b[0mhooks\u001b[0m \u001b[1;33m=\u001b[0m \u001b[0mestimator_util\u001b[0m\u001b[1;33m.\u001b[0m\u001b[0mparse_input_fn_result\u001b[0m\u001b[1;33m(\u001b[0m\u001b[0mresult\u001b[0m\u001b[1;33m)\u001b[0m\u001b[1;33m\u001b[0m\u001b[1;33m\u001b[0m\u001b[0m\n\u001b[0;32m   1020\u001b[0m     \u001b[0mself\u001b[0m\u001b[1;33m.\u001b[0m\u001b[0m_validate_features_in_predict_input\u001b[0m\u001b[1;33m(\u001b[0m\u001b[0mresult\u001b[0m\u001b[1;33m)\u001b[0m\u001b[1;33m\u001b[0m\u001b[1;33m\u001b[0m\u001b[0m\n",
      "\u001b[1;32m~\\anaconda3\\lib\\site-packages\\tensorflow_estimator\\python\\estimator\\estimator.py\u001b[0m in \u001b[0;36m_call_input_fn\u001b[1;34m(self, input_fn, mode, input_context)\u001b[0m\n\u001b[0;32m   1125\u001b[0m       \u001b[0mValueError\u001b[0m\u001b[1;33m:\u001b[0m \u001b[1;32mif\u001b[0m\u001b[0;31m \u001b[0m\u001b[0;31m`\u001b[0m\u001b[0minput_fn\u001b[0m\u001b[0;31m`\u001b[0m \u001b[0mtakes\u001b[0m \u001b[0minvalid\u001b[0m \u001b[0marguments\u001b[0m\u001b[1;33m.\u001b[0m\u001b[1;33m\u001b[0m\u001b[1;33m\u001b[0m\u001b[0m\n\u001b[0;32m   1126\u001b[0m     \"\"\"\n\u001b[1;32m-> 1127\u001b[1;33m     \u001b[0minput_fn_args\u001b[0m \u001b[1;33m=\u001b[0m \u001b[0mfunction_utils\u001b[0m\u001b[1;33m.\u001b[0m\u001b[0mfn_args\u001b[0m\u001b[1;33m(\u001b[0m\u001b[0minput_fn\u001b[0m\u001b[1;33m)\u001b[0m\u001b[1;33m\u001b[0m\u001b[1;33m\u001b[0m\u001b[0m\n\u001b[0m\u001b[0;32m   1128\u001b[0m     \u001b[0mkwargs\u001b[0m \u001b[1;33m=\u001b[0m \u001b[1;33m{\u001b[0m\u001b[1;33m}\u001b[0m\u001b[1;33m\u001b[0m\u001b[1;33m\u001b[0m\u001b[0m\n\u001b[0;32m   1129\u001b[0m     \u001b[1;32mif\u001b[0m \u001b[1;34m'mode'\u001b[0m \u001b[1;32min\u001b[0m \u001b[0minput_fn_args\u001b[0m\u001b[1;33m:\u001b[0m\u001b[1;33m\u001b[0m\u001b[1;33m\u001b[0m\u001b[0m\n",
      "\u001b[1;32m~\\anaconda3\\lib\\site-packages\\tensorflow\\python\\util\\function_utils.py\u001b[0m in \u001b[0;36mfn_args\u001b[1;34m(fn)\u001b[0m\n\u001b[0;32m     51\u001b[0m     \u001b[1;32mif\u001b[0m \u001b[0m_is_callable_object\u001b[0m\u001b[1;33m(\u001b[0m\u001b[0mfn\u001b[0m\u001b[1;33m)\u001b[0m\u001b[1;33m:\u001b[0m\u001b[1;33m\u001b[0m\u001b[1;33m\u001b[0m\u001b[0m\n\u001b[0;32m     52\u001b[0m       \u001b[0mfn\u001b[0m \u001b[1;33m=\u001b[0m \u001b[0mfn\u001b[0m\u001b[1;33m.\u001b[0m\u001b[0m__call__\u001b[0m\u001b[1;33m\u001b[0m\u001b[1;33m\u001b[0m\u001b[0m\n\u001b[1;32m---> 53\u001b[1;33m     \u001b[0margs\u001b[0m \u001b[1;33m=\u001b[0m \u001b[0mtf_inspect\u001b[0m\u001b[1;33m.\u001b[0m\u001b[0mgetfullargspec\u001b[0m\u001b[1;33m(\u001b[0m\u001b[0mfn\u001b[0m\u001b[1;33m)\u001b[0m\u001b[1;33m.\u001b[0m\u001b[0margs\u001b[0m\u001b[1;33m\u001b[0m\u001b[1;33m\u001b[0m\u001b[0m\n\u001b[0m\u001b[0;32m     54\u001b[0m     \u001b[1;32mif\u001b[0m \u001b[0m_is_bound_method\u001b[0m\u001b[1;33m(\u001b[0m\u001b[0mfn\u001b[0m\u001b[1;33m)\u001b[0m \u001b[1;32mand\u001b[0m \u001b[0margs\u001b[0m\u001b[1;33m:\u001b[0m\u001b[1;33m\u001b[0m\u001b[1;33m\u001b[0m\u001b[0m\n\u001b[0;32m     55\u001b[0m       \u001b[1;31m# If it's a bound method, it may or may not have a self/cls first\u001b[0m\u001b[1;33m\u001b[0m\u001b[1;33m\u001b[0m\u001b[1;33m\u001b[0m\u001b[0m\n",
      "\u001b[1;32m~\\anaconda3\\lib\\site-packages\\tensorflow\\python\\util\\tf_inspect.py\u001b[0m in \u001b[0;36mgetfullargspec\u001b[1;34m(obj)\u001b[0m\n\u001b[0;32m    264\u001b[0m     \u001b[1;32mif\u001b[0m \u001b[0md\u001b[0m\u001b[1;33m.\u001b[0m\u001b[0mdecorator_argspec\u001b[0m \u001b[1;32mis\u001b[0m \u001b[1;32mnot\u001b[0m \u001b[1;32mNone\u001b[0m\u001b[1;33m:\u001b[0m\u001b[1;33m\u001b[0m\u001b[1;33m\u001b[0m\u001b[0m\n\u001b[0;32m    265\u001b[0m       \u001b[1;32mreturn\u001b[0m \u001b[0m_convert_maybe_argspec_to_fullargspec\u001b[0m\u001b[1;33m(\u001b[0m\u001b[0md\u001b[0m\u001b[1;33m.\u001b[0m\u001b[0mdecorator_argspec\u001b[0m\u001b[1;33m)\u001b[0m\u001b[1;33m\u001b[0m\u001b[1;33m\u001b[0m\u001b[0m\n\u001b[1;32m--> 266\u001b[1;33m   \u001b[1;32mreturn\u001b[0m \u001b[0m_getfullargspec\u001b[0m\u001b[1;33m(\u001b[0m\u001b[0mtarget\u001b[0m\u001b[1;33m)\u001b[0m\u001b[1;33m\u001b[0m\u001b[1;33m\u001b[0m\u001b[0m\n\u001b[0m\u001b[0;32m    267\u001b[0m \u001b[1;33m\u001b[0m\u001b[0m\n\u001b[0;32m    268\u001b[0m \u001b[1;33m\u001b[0m\u001b[0m\n",
      "\u001b[1;32m~\\anaconda3\\lib\\inspect.py\u001b[0m in \u001b[0;36mgetfullargspec\u001b[1;34m(func)\u001b[0m\n\u001b[0;32m   1130\u001b[0m         \u001b[1;31m# else. So to be fully backwards compatible, we catch all\u001b[0m\u001b[1;33m\u001b[0m\u001b[1;33m\u001b[0m\u001b[1;33m\u001b[0m\u001b[0m\n\u001b[0;32m   1131\u001b[0m         \u001b[1;31m# possible exceptions here, and reraise a TypeError.\u001b[0m\u001b[1;33m\u001b[0m\u001b[1;33m\u001b[0m\u001b[1;33m\u001b[0m\u001b[0m\n\u001b[1;32m-> 1132\u001b[1;33m         \u001b[1;32mraise\u001b[0m \u001b[0mTypeError\u001b[0m\u001b[1;33m(\u001b[0m\u001b[1;34m'unsupported callable'\u001b[0m\u001b[1;33m)\u001b[0m \u001b[1;32mfrom\u001b[0m \u001b[0mex\u001b[0m\u001b[1;33m\u001b[0m\u001b[1;33m\u001b[0m\u001b[0m\n\u001b[0m\u001b[0;32m   1133\u001b[0m \u001b[1;33m\u001b[0m\u001b[0m\n\u001b[0;32m   1134\u001b[0m     \u001b[0margs\u001b[0m \u001b[1;33m=\u001b[0m \u001b[1;33m[\u001b[0m\u001b[1;33m]\u001b[0m\u001b[1;33m\u001b[0m\u001b[1;33m\u001b[0m\u001b[0m\n",
      "\u001b[1;31mTypeError\u001b[0m: unsupported callable"
     ]
    }
   ],
   "source": [
    "result =list(classifier.predict(test))"
   ]
  },
  {
   "cell_type": "code",
   "execution_count": 23,
   "metadata": {},
   "outputs": [
    {
     "name": "stdout",
     "output_type": "stream",
     "text": [
      "<generator object Estimator.predict at 0x00000232EC4C0120>\n"
     ]
    }
   ],
   "source": [
    "print(result)"
   ]
  },
  {
   "cell_type": "code",
   "execution_count": null,
   "metadata": {},
   "outputs": [],
   "source": []
  }
 ],
 "metadata": {
  "kernelspec": {
   "display_name": "Python 3",
   "language": "python",
   "name": "python3"
  },
  "language_info": {
   "codemirror_mode": {
    "name": "ipython",
    "version": 3
   },
   "file_extension": ".py",
   "mimetype": "text/x-python",
   "name": "python",
   "nbconvert_exporter": "python",
   "pygments_lexer": "ipython3",
   "version": "3.8.5"
  }
 },
 "nbformat": 4,
 "nbformat_minor": 4
}
